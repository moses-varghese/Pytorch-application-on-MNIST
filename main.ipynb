{
 "cells": [
  {
   "cell_type": "code",
   "execution_count": 1,
   "id": "277c23b0",
   "metadata": {},
   "outputs": [],
   "source": [
    "import torch\n",
    "import torchvision\n",
    "import torch.nn as nn\n",
    "from torchvision import transforms\n",
    "import torch.optim as optim\n",
    "import torch.nn.functional as F\n",
    "import matplotlib.pyplot as plt\n",
    "import numpy as np"
   ]
  },
  {
   "cell_type": "code",
   "execution_count": 2,
   "id": "64b50137",
   "metadata": {},
   "outputs": [],
   "source": [
    "num_classes = 10\n",
    "num_epochs = 10"
   ]
  },
  {
   "cell_type": "code",
   "execution_count": 3,
   "id": "431a6cd6",
   "metadata": {},
   "outputs": [],
   "source": [
    "#Loading the dataset and preprocessing\n",
    "train_dataset = torchvision.datasets.MNIST(root = './data',\n",
    "                                           train = True,\n",
    "                                           transform = transforms.Compose([\n",
    "                                                  transforms.Resize((32,32)),\n",
    "                                                  transforms.ToTensor(),\n",
    "                                                  transforms.Normalize(mean = (0.1307,), std = (0.3081,))]),\n",
    "                                           download = True)\n",
    "\n",
    "\n",
    "test_dataset = torchvision.datasets.MNIST(root = './data',\n",
    "                                          train = False,\n",
    "                                          transform = transforms.Compose([\n",
    "                                                  transforms.Resize((32,32)),\n",
    "                                                  transforms.ToTensor(),\n",
    "                                                  transforms.Normalize(mean = (0.1325,), std = (0.3105,))]),\n",
    "                                          download=True)"
   ]
  },
  {
   "cell_type": "code",
   "execution_count": 4,
   "id": "3a845153",
   "metadata": {},
   "outputs": [
    {
     "name": "stdout",
     "output_type": "stream",
     "text": [
      "Net(\n",
      "  (conv1): Conv2d(1, 6, kernel_size=(5, 5), stride=(1, 1))\n",
      "  (conv2): Conv2d(6, 16, kernel_size=(5, 5), stride=(1, 1))\n",
      "  (fc1): Linear(in_features=400, out_features=120, bias=True)\n",
      "  (fc2): Linear(in_features=120, out_features=84, bias=True)\n",
      "  (fc3): Linear(in_features=84, out_features=10, bias=True)\n",
      ")\n"
     ]
    }
   ],
   "source": [
    "class Net(nn.Module):\n",
    "\n",
    "    def __init__(self):\n",
    "        super(Net, self).__init__()\n",
    "        # 1 input image channel, 6 output channels, 5x5 square convolution\n",
    "        # kernel\n",
    "        self.conv1 = nn.Conv2d(1, 6, 5)\n",
    "        self.conv2 = nn.Conv2d(6, 16, 5)\n",
    "        # an affine operation: y = Wx + b\n",
    "        self.fc1 = nn.Linear(16 * 5 * 5, 120)  # 5*5 from image dimension\n",
    "        self.fc2 = nn.Linear(120, 84)\n",
    "        self.fc3 = nn.Linear(84, 10)\n",
    "\n",
    "    def forward(self, x):\n",
    "        # Max pooling over a (2, 2) window\n",
    "        x = F.max_pool2d(F.relu(self.conv1(x)), (2, 2))\n",
    "        # If the size is a square, you can specify with a single number\n",
    "        x = F.max_pool2d(F.relu(self.conv2(x)), 2)\n",
    "        x = torch.flatten(x, 1) # flatten all dimensions except the batch dimension\n",
    "        x = F.relu(self.fc1(x))\n",
    "        x = F.relu(self.fc2(x))\n",
    "        x = self.fc3(x)\n",
    "        return x\n",
    "\n",
    "\n",
    "net = Net()\n",
    "print(net)"
   ]
  },
  {
   "cell_type": "code",
   "execution_count": 5,
   "id": "8ed8b488",
   "metadata": {},
   "outputs": [],
   "source": [
    "criterion = nn.CrossEntropyLoss()\n",
    "#optimizer = optim.SGD(LN1.parameters(), lr=0.01)"
   ]
  },
  {
   "cell_type": "code",
   "execution_count": 6,
   "id": "50de074d",
   "metadata": {},
   "outputs": [],
   "source": [
    "def train(bs, lr1, num_epochs, train_dataset, model, cost, losses):\n",
    "    for epoch in range(num_epochs):\n",
    "        epoch_loss = 0\n",
    "        num = 0\n",
    "        train_loader = torch.utils.data.DataLoader(dataset = train_dataset,\n",
    "                                           batch_size = bs,\n",
    "                                           shuffle = True)\n",
    "        for i, (images, labels) in enumerate(train_loader):\n",
    "            #Forward pass\n",
    "            outputs = model(images)\n",
    "            loss = cost(outputs, labels)\n",
    "            optimizer = optim.SGD(LN1.parameters(), lr1)\n",
    "            # Backward and optimize\n",
    "            optimizer.zero_grad()\n",
    "            loss.backward()\n",
    "            optimizer.step()\n",
    "            epoch_loss += loss\n",
    "            num += 1\n",
    "        \n",
    "        print ('Epoch [{}/{}], Loss: {:.4f}' \n",
    "                       .format(epoch+1, num_epochs, epoch_loss / num))\n",
    "        losses.append(epoch_loss / num)\n",
    "    #return losses"
   ]
  },
  {
   "cell_type": "code",
   "execution_count": 7,
   "id": "03c4b57e",
   "metadata": {},
   "outputs": [],
   "source": [
    "epochs = []\n",
    "for i in range(num_epochs):\n",
    "    epochs.append(i)"
   ]
  },
  {
   "cell_type": "code",
   "execution_count": 8,
   "id": "5b894038",
   "metadata": {},
   "outputs": [
    {
     "name": "stdout",
     "output_type": "stream",
     "text": [
      "Epoch [1/10], Loss: 2.1611\n",
      "Epoch [2/10], Loss: 1.6340\n",
      "Epoch [3/10], Loss: 0.9717\n",
      "Epoch [4/10], Loss: 0.6438\n",
      "Epoch [5/10], Loss: 0.5071\n",
      "Epoch [6/10], Loss: 0.4369\n",
      "Epoch [7/10], Loss: 0.3926\n",
      "Epoch [8/10], Loss: 0.3608\n",
      "Epoch [9/10], Loss: 0.3371\n",
      "Epoch [10/10], Loss: 0.3181\n"
     ]
    }
   ],
   "source": [
    "LN1 = Net()\n",
    "def init_weights(m):\n",
    "    if isinstance(m, nn.Linear):\n",
    "        torch.nn.init.kaiming_uniform_(m.weight)\n",
    "LN1.apply(init_weights)\n",
    "losses = []\n",
    "train(32, 0.0001, num_epochs, train_dataset, LN1, criterion, losses)\n",
    "lw = torch.FloatTensor(losses)"
   ]
  },
  {
   "cell_type": "code",
   "execution_count": 9,
   "id": "186d03ad",
   "metadata": {},
   "outputs": [
    {
     "name": "stdout",
     "output_type": "stream",
     "text": [
      "Epoch [1/10], Loss: 0.7581\n",
      "Epoch [2/10], Loss: 0.2956\n",
      "Epoch [3/10], Loss: 0.2274\n",
      "Epoch [4/10], Loss: 0.1898\n",
      "Epoch [5/10], Loss: 0.1636\n",
      "Epoch [6/10], Loss: 0.1446\n",
      "Epoch [7/10], Loss: 0.1299\n",
      "Epoch [8/10], Loss: 0.1184\n",
      "Epoch [9/10], Loss: 0.1084\n",
      "Epoch [10/10], Loss: 0.0999\n"
     ]
    }
   ],
   "source": [
    "LN1 = Net()\n",
    "def init_weights(m):\n",
    "    if isinstance(m, nn.Linear):\n",
    "        torch.nn.init.kaiming_uniform_(m.weight)\n",
    "LN1.apply(init_weights)\n",
    "losses = []\n",
    "train(32, 0.001, num_epochs, train_dataset, LN1, criterion, losses)\n",
    "lw1 = torch.FloatTensor(losses)"
   ]
  },
  {
   "cell_type": "code",
   "execution_count": 11,
   "id": "232777a3",
   "metadata": {},
   "outputs": [
    {
     "name": "stdout",
     "output_type": "stream",
     "text": [
      "Epoch [1/10], Loss: 0.2676\n",
      "Epoch [2/10], Loss: 0.0896\n",
      "Epoch [3/10], Loss: 0.0655\n",
      "Epoch [4/10], Loss: 0.0527\n",
      "Epoch [5/10], Loss: 0.0460\n",
      "Epoch [6/10], Loss: 0.0402\n",
      "Epoch [7/10], Loss: 0.0347\n",
      "Epoch [8/10], Loss: 0.0317\n",
      "Epoch [9/10], Loss: 0.0273\n",
      "Epoch [10/10], Loss: 0.0251\n"
     ]
    }
   ],
   "source": [
    "LN1 = Net()\n",
    "def init_weights(m):\n",
    "    if isinstance(m, nn.Linear):\n",
    "        torch.nn.init.kaiming_uniform_(m.weight)\n",
    "LN1.apply(init_weights)\n",
    "losses = []\n",
    "train(32, 0.01, num_epochs, train_dataset, LN1, criterion, losses)\n",
    "lw2 = torch.FloatTensor(losses)"
   ]
  },
  {
   "cell_type": "code",
   "execution_count": 12,
   "id": "e3f1cd4f",
   "metadata": {},
   "outputs": [
    {
     "data": {
      "image/png": "[encoded data removed]",
      "text/plain": [
       "<Figure size 432x288 with 1 Axes>"
      ]
     },
     "metadata": {
      "needs_background": "light"
     },
     "output_type": "display_data"
    }
   ],
   "source": [
    "plt.plot(epochs, lw, color='r', label='lr = 0.0001')\n",
    "plt.plot(epochs, lw1, color='g', label='lr = 0.001')\n",
    "plt.plot(epochs, lw2, color='b', label='lr = 0.01')\n",
    "plt.xlabel(\"Epoch\")\n",
    "plt.ylabel(\"Loss\")\n",
    "plt.title(\"Stochastic Gradient Descent with Batch_Size = 32\")\n",
    "plt.legend()\n",
    "plt.show()"
   ]
  },
  {
   "cell_type": "code",
   "execution_count": 13,
   "id": "73063491",
   "metadata": {},
   "outputs": [
    {
     "name": "stdout",
     "output_type": "stream",
     "text": [
      "Epoch [1/10], Loss: 2.3366\n",
      "Epoch [2/10], Loss: 2.1981\n",
      "Epoch [3/10], Loss: 2.0838\n",
      "Epoch [4/10], Loss: 1.9150\n",
      "Epoch [5/10], Loss: 1.6626\n",
      "Epoch [6/10], Loss: 1.3481\n",
      "Epoch [7/10], Loss: 1.0489\n",
      "Epoch [8/10], Loss: 0.8328\n",
      "Epoch [9/10], Loss: 0.6901\n",
      "Epoch [10/10], Loss: 0.5915\n"
     ]
    }
   ],
   "source": [
    "LN1 = Net()\n",
    "def init_weights(m):\n",
    "    if isinstance(m, nn.Linear):\n",
    "        torch.nn.init.kaiming_uniform_(m.weight)\n",
    "LN1.apply(init_weights)\n",
    "losses = []\n",
    "train(64, 0.0001, num_epochs, train_dataset, LN1, criterion, losses)\n",
    "lw3 = torch.FloatTensor(losses)"
   ]
  },
  {
   "cell_type": "code",
   "execution_count": 14,
   "id": "c9e1a476",
   "metadata": {},
   "outputs": [
    {
     "name": "stdout",
     "output_type": "stream",
     "text": [
      "Epoch [1/10], Loss: 1.2122\n",
      "Epoch [2/10], Loss: 0.3792\n",
      "Epoch [3/10], Loss: 0.2785\n",
      "Epoch [4/10], Loss: 0.2334\n",
      "Epoch [5/10], Loss: 0.2050\n",
      "Epoch [6/10], Loss: 0.1848\n",
      "Epoch [7/10], Loss: 0.1687\n",
      "Epoch [8/10], Loss: 0.1562\n",
      "Epoch [9/10], Loss: 0.1458\n",
      "Epoch [10/10], Loss: 0.1368\n"
     ]
    }
   ],
   "source": [
    "LN1 = Net()\n",
    "def init_weights(m):\n",
    "    if isinstance(m, nn.Linear):\n",
    "        torch.nn.init.kaiming_uniform_(m.weight)\n",
    "LN1.apply(init_weights)\n",
    "losses = []\n",
    "train(64, 0.001, num_epochs, train_dataset, LN1, criterion, losses)\n",
    "lw4 = torch.FloatTensor(losses)"
   ]
  },
  {
   "cell_type": "code",
   "execution_count": 15,
   "id": "bd7f178f",
   "metadata": {},
   "outputs": [
    {
     "name": "stdout",
     "output_type": "stream",
     "text": [
      "Epoch [1/10], Loss: 0.3880\n",
      "Epoch [2/10], Loss: 0.1257\n",
      "Epoch [3/10], Loss: 0.0898\n",
      "Epoch [4/10], Loss: 0.0720\n",
      "Epoch [5/10], Loss: 0.0614\n",
      "Epoch [6/10], Loss: 0.0535\n",
      "Epoch [7/10], Loss: 0.0484\n",
      "Epoch [8/10], Loss: 0.0438\n",
      "Epoch [9/10], Loss: 0.0404\n",
      "Epoch [10/10], Loss: 0.0371\n"
     ]
    }
   ],
   "source": [
    "LN1 = Net()\n",
    "def init_weights(m):\n",
    "    if isinstance(m, nn.Linear):\n",
    "        torch.nn.init.kaiming_uniform_(m.weight)\n",
    "LN1.apply(init_weights)\n",
    "losses = []\n",
    "train(64, 0.01, num_epochs, train_dataset, LN1, criterion, losses)\n",
    "lw5 = torch.FloatTensor(losses)"
   ]
  },
  {
   "cell_type": "code",
   "execution_count": 16,
   "id": "c3b535c3",
   "metadata": {},
   "outputs": [
    {
     "data": {
      "image/png": "[encoded data removed]",
      "text/plain": [
       "<Figure size 432x288 with 1 Axes>"
      ]
     },
     "metadata": {
      "needs_background": "light"
     },
     "output_type": "display_data"
    }
   ],
   "source": [
    "plt.plot(epochs, lw3, color='r', label='lr = 0.0001')\n",
    "plt.plot(epochs, lw4, color='g', label='lr = 0.001')\n",
    "plt.plot(epochs, lw5, color='b', label='lr = 0.01')\n",
    "plt.xlabel(\"Epoch\")\n",
    "plt.ylabel(\"Loss\")\n",
    "plt.title(\"Stochastic Gradient Descent with Batch_Size = 64\")\n",
    "plt.legend()\n",
    "plt.show()"
   ]
  },
  {
   "cell_type": "code",
   "execution_count": 17,
   "id": "05883e4a",
   "metadata": {},
   "outputs": [
    {
     "name": "stdout",
     "output_type": "stream",
     "text": [
      "Epoch [1/10], Loss: 2.3445\n",
      "Epoch [2/10], Loss: 2.3444\n",
      "Epoch [3/10], Loss: 2.3443\n",
      "Epoch [4/10], Loss: 2.3442\n",
      "Epoch [5/10], Loss: 2.3441\n",
      "Epoch [6/10], Loss: 2.3440\n",
      "Epoch [7/10], Loss: 2.3439\n",
      "Epoch [8/10], Loss: 2.3439\n",
      "Epoch [9/10], Loss: 2.3438\n",
      "Epoch [10/10], Loss: 2.3437\n"
     ]
    }
   ],
   "source": [
    "LN1 = Net()\n",
    "def init_weights(m):\n",
    "    if isinstance(m, nn.Linear):\n",
    "        torch.nn.init.kaiming_uniform_(m.weight)\n",
    "LN1.apply(init_weights)\n",
    "losses = []\n",
    "train(60000, 0.0001, num_epochs, train_dataset, LN1, criterion, losses)\n",
    "lw6 = torch.FloatTensor(losses)"
   ]
  },
  {
   "cell_type": "code",
   "execution_count": 18,
   "id": "16307c2d",
   "metadata": {},
   "outputs": [
    {
     "name": "stdout",
     "output_type": "stream",
     "text": [
      "Epoch [1/10], Loss: 2.3890\n",
      "Epoch [2/10], Loss: 2.3842\n",
      "Epoch [3/10], Loss: 2.3796\n",
      "Epoch [4/10], Loss: 2.3752\n",
      "Epoch [5/10], Loss: 2.3709\n",
      "Epoch [6/10], Loss: 2.3667\n",
      "Epoch [7/10], Loss: 2.3627\n",
      "Epoch [8/10], Loss: 2.3587\n",
      "Epoch [9/10], Loss: 2.3549\n",
      "Epoch [10/10], Loss: 2.3512\n"
     ]
    }
   ],
   "source": [
    "LN1 = Net()\n",
    "def init_weights(m):\n",
    "    if isinstance(m, nn.Linear):\n",
    "        torch.nn.init.kaiming_uniform_(m.weight)\n",
    "LN1.apply(init_weights)\n",
    "losses = []\n",
    "train(60000, 0.001, num_epochs, train_dataset, LN1, criterion, losses)\n",
    "lw7 = torch.FloatTensor(losses)"
   ]
  },
  {
   "cell_type": "code",
   "execution_count": 19,
   "id": "1d4f3dd0",
   "metadata": {},
   "outputs": [
    {
     "name": "stdout",
     "output_type": "stream",
     "text": [
      "Epoch [1/10], Loss: 2.5552\n",
      "Epoch [2/10], Loss: 2.4350\n",
      "Epoch [3/10], Loss: 2.3793\n",
      "Epoch [4/10], Loss: 2.3442\n",
      "Epoch [5/10], Loss: 2.3191\n",
      "Epoch [6/10], Loss: 2.2996\n",
      "Epoch [7/10], Loss: 2.2833\n",
      "Epoch [8/10], Loss: 2.2692\n",
      "Epoch [9/10], Loss: 2.2566\n",
      "Epoch [10/10], Loss: 2.2449\n"
     ]
    }
   ],
   "source": [
    "LN1 = Net()\n",
    "def init_weights(m):\n",
    "    if isinstance(m, nn.Linear):\n",
    "        torch.nn.init.kaiming_uniform_(m.weight)\n",
    "LN1.apply(init_weights)\n",
    "losses = []\n",
    "train(60000, 0.01, num_epochs, train_dataset, LN1, criterion, losses)\n",
    "lw8 = torch.FloatTensor(losses)"
   ]
  },
  {
   "cell_type": "code",
   "execution_count": 20,
   "id": "39fb6d2a",
   "metadata": {},
   "outputs": [
    {
     "data": {
      "image/png": "[encoded data removed]",
      "text/plain": [
       "<Figure size 432x288 with 1 Axes>"
      ]
     },
     "metadata": {
      "needs_background": "light"
     },
     "output_type": "display_data"
    }
   ],
   "source": [
    "plt.plot(epochs, lw6, color='r', label='lr = 0.0001')\n",
    "plt.plot(epochs, lw7, color='g', label='lr = 0.001')\n",
    "plt.plot(epochs, lw8, color='b', label='lr = 0.01')\n",
    "plt.xlabel(\"Epoch\")\n",
    "plt.ylabel(\"Loss\")\n",
    "plt.title(\"Gradient Descent\")\n",
    "plt.legend()\n",
    "plt.show()"
   ]
  },
  {
   "cell_type": "code",
   "execution_count": 24,
   "id": "1f3b8e1e",
   "metadata": {},
   "outputs": [],
   "source": [
    "def train1(bs, lr1, num_epochs, betas, train_dataset, model, cost, losses):\n",
    "    for epoch in range(num_epochs):\n",
    "        epoch_loss = 0\n",
    "        num = 0\n",
    "        train_loader = torch.utils.data.DataLoader(dataset = train_dataset,\n",
    "                                           batch_size = bs,\n",
    "                                           shuffle = True)\n",
    "        for i, (images, labels) in enumerate(train_loader):\n",
    "            #Forward pass\n",
    "            outputs = model(images)\n",
    "            loss = cost(outputs, labels)\n",
    "            optimizer = optim.Adam(LN1.parameters(), lr1, \n",
    "                                   betas, eps=1e-08, weight_decay=0, amsgrad=True, maximize=False)\n",
    "            # Backward and optimize\n",
    "            optimizer.zero_grad()\n",
    "            loss.backward()\n",
    "            optimizer.step()\n",
    "            epoch_loss += loss\n",
    "            num += 1\n",
    "        \n",
    "        print ('Epoch [{}/{}], Loss: {:.4f}' \n",
    "                       .format(epoch+1, num_epochs, epoch_loss / num))\n",
    "        losses.append(epoch_loss / num)\n",
    "    #return losses"
   ]
  },
  {
   "cell_type": "code",
   "execution_count": 45,
   "id": "52da6503",
   "metadata": {
    "scrolled": true
   },
   "outputs": [
    {
     "name": "stdout",
     "output_type": "stream",
     "text": [
      "Epoch [1/10], Loss: 0.6373\n",
      "Epoch [2/10], Loss: 0.1964\n",
      "Epoch [3/10], Loss: 0.1443\n",
      "Epoch [4/10], Loss: 0.1196\n",
      "Epoch [5/10], Loss: 0.1041\n",
      "Epoch [6/10], Loss: 0.0948\n",
      "Epoch [7/10], Loss: 0.0890\n",
      "Epoch [8/10], Loss: 0.0848\n",
      "Epoch [9/10], Loss: 0.0811\n",
      "Epoch [10/10], Loss: 0.0797\n"
     ]
    }
   ],
   "source": [
    "LN1 = Net()\n",
    "def init_weights(m):\n",
    "    if isinstance(m, nn.Linear):\n",
    "        torch.nn.init.kaiming_uniform_(m.weight)\n",
    "LN1.apply(init_weights)\n",
    "losses = []\n",
    "train1(64, 0.0001, num_epochs, (0.999, 0.999), train_dataset, LN1, criterion, losses)\n",
    "lw9 = torch.FloatTensor(losses)"
   ]
  },
  {
   "cell_type": "code",
   "execution_count": 44,
   "id": "f29a10d1",
   "metadata": {},
   "outputs": [
    {
     "name": "stdout",
     "output_type": "stream",
     "text": [
      "Epoch [1/10], Loss: 0.6085\n",
      "Epoch [2/10], Loss: 0.1950\n",
      "Epoch [3/10], Loss: 0.1344\n",
      "Epoch [4/10], Loss: 0.1088\n",
      "Epoch [5/10], Loss: 0.0948\n",
      "Epoch [6/10], Loss: 0.0861\n",
      "Epoch [7/10], Loss: 0.0805\n",
      "Epoch [8/10], Loss: 0.0748\n",
      "Epoch [9/10], Loss: 0.0733\n",
      "Epoch [10/10], Loss: 0.0692\n"
     ]
    }
   ],
   "source": [
    "LN1 = Net()\n",
    "def init_weights(m):\n",
    "    if isinstance(m, nn.Linear):\n",
    "        torch.nn.init.kaiming_uniform_(m.weight)\n",
    "LN1.apply(init_weights)\n",
    "losses = []\n",
    "train1(64, 0.0001, num_epochs, (0.999, 0.989), train_dataset, LN1, criterion, losses)\n",
    "lw10 = torch.FloatTensor(losses)"
   ]
  },
  {
   "cell_type": "code",
   "execution_count": 43,
   "id": "c285a156",
   "metadata": {},
   "outputs": [
    {
     "name": "stdout",
     "output_type": "stream",
     "text": [
      "Epoch [1/10], Loss: 0.5943\n",
      "Epoch [2/10], Loss: 0.1720\n",
      "Epoch [3/10], Loss: 0.1277\n",
      "Epoch [4/10], Loss: 0.1062\n",
      "Epoch [5/10], Loss: 0.0948\n",
      "Epoch [6/10], Loss: 0.0864\n",
      "Epoch [7/10], Loss: 0.0802\n",
      "Epoch [8/10], Loss: 0.0762\n",
      "Epoch [9/10], Loss: 0.0725\n",
      "Epoch [10/10], Loss: 0.0718\n"
     ]
    }
   ],
   "source": [
    "LN1 = Net()\n",
    "def init_weights(m):\n",
    "    if isinstance(m, nn.Linear):\n",
    "        torch.nn.init.kaiming_uniform_(m.weight)\n",
    "LN1.apply(init_weights)\n",
    "losses = []\n",
    "train1(64, 0.0001, num_epochs, (0.999, 0.979), train_dataset, LN1, criterion, losses)\n",
    "lw11 = torch.FloatTensor(losses)"
   ]
  },
  {
   "cell_type": "code",
   "execution_count": 46,
   "id": "7da62e74",
   "metadata": {},
   "outputs": [
    {
     "data": {
      "image/png": "[encoded data removed]",
      "text/plain": [
       "<Figure size 432x288 with 1 Axes>"
      ]
     },
     "metadata": {
      "needs_background": "light"
     },
     "output_type": "display_data"
    }
   ],
   "source": [
    "plt.plot(epochs, lw9, color='r', label='beta2 = 0.999')\n",
    "plt.plot(epochs, lw10, color='g', label='beta2 = 0.989')\n",
    "plt.plot(epochs, lw11, color='b', label='beta2 = 0.979')\n",
    "plt.xlabel(\"Epoch\")\n",
    "plt.ylabel(\"Loss\")\n",
    "plt.title(\"Adam with beta1 = 0.999\")\n",
    "plt.legend()\n",
    "plt.show()"
   ]
  },
  {
   "cell_type": "code",
   "execution_count": 41,
   "id": "2b73fcc0",
   "metadata": {},
   "outputs": [
    {
     "name": "stdout",
     "output_type": "stream",
     "text": [
      "Epoch [1/10], Loss: 0.6237\n",
      "Epoch [2/10], Loss: 0.1795\n",
      "Epoch [3/10], Loss: 0.1323\n",
      "Epoch [4/10], Loss: 0.1108\n",
      "Epoch [5/10], Loss: 0.0996\n",
      "Epoch [6/10], Loss: 0.0934\n",
      "Epoch [7/10], Loss: 0.0876\n",
      "Epoch [8/10], Loss: 0.0834\n",
      "Epoch [9/10], Loss: 0.0814\n",
      "Epoch [10/10], Loss: 0.0816\n"
     ]
    }
   ],
   "source": [
    "LN1 = Net()\n",
    "def init_weights(m):\n",
    "    if isinstance(m, nn.Linear):\n",
    "        torch.nn.init.kaiming_uniform_(m.weight)\n",
    "LN1.apply(init_weights)\n",
    "losses = []\n",
    "train1(64, 0.0001, num_epochs, (0.998, 0.999), train_dataset, LN1, criterion, losses)\n",
    "lw12 = torch.FloatTensor(losses)"
   ]
  },
  {
   "cell_type": "code",
   "execution_count": 40,
   "id": "a302cfdd",
   "metadata": {},
   "outputs": [
    {
     "name": "stdout",
     "output_type": "stream",
     "text": [
      "Epoch [1/10], Loss: 0.5878\n",
      "Epoch [2/10], Loss: 0.1996\n",
      "Epoch [3/10], Loss: 0.1431\n",
      "Epoch [4/10], Loss: 0.1149\n",
      "Epoch [5/10], Loss: 0.1000\n",
      "Epoch [6/10], Loss: 0.0906\n",
      "Epoch [7/10], Loss: 0.0845\n",
      "Epoch [8/10], Loss: 0.0808\n",
      "Epoch [9/10], Loss: 0.0794\n",
      "Epoch [10/10], Loss: 0.0781\n"
     ]
    }
   ],
   "source": [
    "LN1 = Net()\n",
    "def init_weights(m):\n",
    "    if isinstance(m, nn.Linear):\n",
    "        torch.nn.init.kaiming_uniform_(m.weight)\n",
    "LN1.apply(init_weights)\n",
    "losses = []\n",
    "train1(64, 0.0001, num_epochs, (0.998, 0.989), train_dataset, LN1, criterion, losses)\n",
    "lw13 = torch.FloatTensor(losses)"
   ]
  },
  {
   "cell_type": "code",
   "execution_count": 39,
   "id": "72b1fc93",
   "metadata": {},
   "outputs": [
    {
     "name": "stdout",
     "output_type": "stream",
     "text": [
      "Epoch [1/10], Loss: 0.5736\n",
      "Epoch [2/10], Loss: 0.1780\n",
      "Epoch [3/10], Loss: 0.1296\n",
      "Epoch [4/10], Loss: 0.1063\n",
      "Epoch [5/10], Loss: 0.0955\n",
      "Epoch [6/10], Loss: 0.0871\n",
      "Epoch [7/10], Loss: 0.0820\n",
      "Epoch [8/10], Loss: 0.0784\n",
      "Epoch [9/10], Loss: 0.0767\n",
      "Epoch [10/10], Loss: 0.0777\n"
     ]
    }
   ],
   "source": [
    "LN1 = Net()\n",
    "def init_weights(m):\n",
    "    if isinstance(m, nn.Linear):\n",
    "        torch.nn.init.kaiming_uniform_(m.weight)\n",
    "LN1.apply(init_weights)\n",
    "losses = []\n",
    "train1(64, 0.0001, num_epochs, (0.998, 0.979), train_dataset, LN1, criterion, losses)\n",
    "lw14 = torch.FloatTensor(losses)"
   ]
  },
  {
   "cell_type": "code",
   "execution_count": 42,
   "id": "976e3718",
   "metadata": {},
   "outputs": [
    {
     "data": {
      "image/png": "[encoded data removed]",
      "text/plain": [
       "<Figure size 432x288 with 1 Axes>"
      ]
     },
     "metadata": {
      "needs_background": "light"
     },
     "output_type": "display_data"
    }
   ],
   "source": [
    "plt.plot(epochs, lw12, color='r', label='beta2 = 0.999')\n",
    "plt.plot(epochs, lw13, color='g', label='beta2 = 0.989')\n",
    "plt.plot(epochs, lw14, color='b', label='beta2 = 0.979')\n",
    "plt.xlabel(\"Epoch\")\n",
    "plt.ylabel(\"Loss\")\n",
    "plt.title(\"Adam with beta1 =0.998\")\n",
    "plt.legend()\n",
    "plt.show()"
   ]
  },
  {
   "cell_type": "code",
   "execution_count": 47,
   "id": "a8b500d5",
   "metadata": {},
   "outputs": [
    {
     "name": "stdout",
     "output_type": "stream",
     "text": [
      "Epoch [1/10], Loss: 0.5687\n",
      "Epoch [2/10], Loss: 0.2133\n",
      "Epoch [3/10], Loss: 0.1578\n",
      "Epoch [4/10], Loss: 0.1290\n",
      "Epoch [5/10], Loss: 0.1105\n",
      "Epoch [6/10], Loss: 0.1002\n",
      "Epoch [7/10], Loss: 0.0926\n",
      "Epoch [8/10], Loss: 0.0886\n",
      "Epoch [9/10], Loss: 0.0846\n",
      "Epoch [10/10], Loss: 0.0822\n"
     ]
    }
   ],
   "source": [
    "LN1 = Net()\n",
    "def init_weights(m):\n",
    "    if isinstance(m, nn.Linear):\n",
    "        torch.nn.init.kaiming_uniform_(m.weight)\n",
    "LN1.apply(init_weights)\n",
    "losses = []\n",
    "train1(64, 0.0001, num_epochs, (0.997, 0.999), train_dataset, LN1, criterion, losses)\n",
    "lw15 = torch.FloatTensor(losses)"
   ]
  },
  {
   "cell_type": "code",
   "execution_count": 48,
   "id": "b8b89c82",
   "metadata": {},
   "outputs": [
    {
     "name": "stdout",
     "output_type": "stream",
     "text": [
      "Epoch [1/10], Loss: 0.5335\n",
      "Epoch [2/10], Loss: 0.1798\n",
      "Epoch [3/10], Loss: 0.1331\n",
      "Epoch [4/10], Loss: 0.1096\n",
      "Epoch [5/10], Loss: 0.0967\n",
      "Epoch [6/10], Loss: 0.0884\n",
      "Epoch [7/10], Loss: 0.0824\n",
      "Epoch [8/10], Loss: 0.0778\n",
      "Epoch [9/10], Loss: 0.0758\n",
      "Epoch [10/10], Loss: 0.0745\n"
     ]
    }
   ],
   "source": [
    "LN1 = Net()\n",
    "def init_weights(m):\n",
    "    if isinstance(m, nn.Linear):\n",
    "        torch.nn.init.kaiming_uniform_(m.weight)\n",
    "LN1.apply(init_weights)\n",
    "losses = []\n",
    "train1(64, 0.0001, num_epochs, (0.997, 0.989), train_dataset, LN1, criterion, losses)\n",
    "lw16 = torch.FloatTensor(losses)"
   ]
  },
  {
   "cell_type": "code",
   "execution_count": 50,
   "id": "915b26c7",
   "metadata": {},
   "outputs": [
    {
     "name": "stdout",
     "output_type": "stream",
     "text": [
      "Epoch [1/10], Loss: 0.6206\n",
      "Epoch [2/10], Loss: 0.2140\n",
      "Epoch [3/10], Loss: 0.1582\n",
      "Epoch [4/10], Loss: 0.1280\n",
      "Epoch [5/10], Loss: 0.1082\n",
      "Epoch [6/10], Loss: 0.0979\n",
      "Epoch [7/10], Loss: 0.0895\n",
      "Epoch [8/10], Loss: 0.0846\n",
      "Epoch [9/10], Loss: 0.0810\n",
      "Epoch [10/10], Loss: 0.0798\n"
     ]
    }
   ],
   "source": [
    "LN1 = Net()\n",
    "def init_weights(m):\n",
    "    if isinstance(m, nn.Linear):\n",
    "        torch.nn.init.kaiming_uniform_(m.weight)\n",
    "LN1.apply(init_weights)\n",
    "losses = []\n",
    "train1(64, 0.0001, num_epochs, (0.997, 0.979), train_dataset, LN1, criterion, losses)\n",
    "lw17 = torch.FloatTensor(losses)"
   ]
  },
  {
   "cell_type": "code",
   "execution_count": 51,
   "id": "ddbf178b",
   "metadata": {},
   "outputs": [
    {
     "data": {
      "image/png": "[encoded data removed]",
      "text/plain": [
       "<Figure size 432x288 with 1 Axes>"
      ]
     },
     "metadata": {
      "needs_background": "light"
     },
     "output_type": "display_data"
    }
   ],
   "source": [
    "plt.plot(epochs, lw15, color='r', label='beta2 = 0.999')\n",
    "plt.plot(epochs, lw16, color='g', label='beta2 = 0.989')\n",
    "plt.plot(epochs, lw17, color='b', label='beta2 = 0.979')\n",
    "plt.xlabel(\"Epoch\")\n",
    "plt.ylabel(\"Loss\")\n",
    "plt.title(\"Adam with beta1 = 0.997\")\n",
    "plt.legend()\n",
    "plt.show()"
   ]
  },
  {
   "cell_type": "code",
   "execution_count": 78,
   "id": "da16ee52",
   "metadata": {},
   "outputs": [],
   "source": [
    "def train2(bs, lr1,  lr_decay, initial_accumulator_value, num_epochs, train_dataset, model, cost, losses):\n",
    "    for epoch in range(num_epochs):\n",
    "        epoch_loss = 0\n",
    "        num = 0\n",
    "        train_loader = torch.utils.data.DataLoader(dataset = train_dataset,\n",
    "                                           batch_size = bs,\n",
    "                                           shuffle = True)\n",
    "        for i, (images, labels) in enumerate(train_loader):\n",
    "            #Forward pass\n",
    "            outputs = model(images)\n",
    "            loss = cost(outputs, labels)\n",
    "            optimizer = optim.Adagrad(LN1.parameters(), lr1, lr_decay, initial_accumulator_value, eps=1e-10)\n",
    "            # Backward and optimize\n",
    "            optimizer.zero_grad()\n",
    "            loss.backward()\n",
    "            optimizer.step()\n",
    "            epoch_loss += loss\n",
    "            num += 1\n",
    "        \n",
    "        print ('Epoch [{}/{}], Loss: {:.4f}' \n",
    "                       .format(epoch+1, num_epochs, epoch_loss / num))\n",
    "        losses.append(epoch_loss / num)\n",
    "    #return losses"
   ]
  },
  {
   "cell_type": "code",
   "execution_count": 79,
   "id": "f9385d59",
   "metadata": {},
   "outputs": [
    {
     "name": "stdout",
     "output_type": "stream",
     "text": [
      "Epoch [1/10], Loss: 0.5666\n",
      "Epoch [2/10], Loss: 0.1736\n",
      "Epoch [3/10], Loss: 0.1271\n",
      "Epoch [4/10], Loss: 0.1056\n",
      "Epoch [5/10], Loss: 0.0943\n",
      "Epoch [6/10], Loss: 0.0866\n",
      "Epoch [7/10], Loss: 0.0804\n",
      "Epoch [8/10], Loss: 0.0766\n",
      "Epoch [9/10], Loss: 0.0731\n",
      "Epoch [10/10], Loss: 0.0702\n"
     ]
    }
   ],
   "source": [
    "LN1 = Net()\n",
    "def init_weights(m):\n",
    "    if isinstance(m, nn.Linear):\n",
    "        torch.nn.init.kaiming_uniform_(m.weight)\n",
    "LN1.apply(init_weights)\n",
    "losses = []\n",
    "train2(64, 0.0001, 0, 0.00001, num_epochs, train_dataset, LN1, criterion, losses)\n",
    "lw18 = torch.FloatTensor(losses)"
   ]
  },
  {
   "cell_type": "code",
   "execution_count": 80,
   "id": "1908cd01",
   "metadata": {},
   "outputs": [
    {
     "name": "stdout",
     "output_type": "stream",
     "text": [
      "Epoch [1/10], Loss: 0.5494\n",
      "Epoch [2/10], Loss: 0.1838\n",
      "Epoch [3/10], Loss: 0.1340\n",
      "Epoch [4/10], Loss: 0.1101\n",
      "Epoch [5/10], Loss: 0.0966\n",
      "Epoch [6/10], Loss: 0.0883\n",
      "Epoch [7/10], Loss: 0.0839\n",
      "Epoch [8/10], Loss: 0.0791\n",
      "Epoch [9/10], Loss: 0.0753\n",
      "Epoch [10/10], Loss: 0.0728\n"
     ]
    }
   ],
   "source": [
    "LN1 = Net()\n",
    "def init_weights(m):\n",
    "    if isinstance(m, nn.Linear):\n",
    "        torch.nn.init.kaiming_uniform_(m.weight)\n",
    "LN1.apply(init_weights)\n",
    "losses = []\n",
    "train2(64, 0.00012, 0, 0.00001, num_epochs, train_dataset, LN1, criterion, losses)\n",
    "lw19 = torch.FloatTensor(losses)"
   ]
  },
  {
   "cell_type": "code",
   "execution_count": 81,
   "id": "707ecf9c",
   "metadata": {},
   "outputs": [
    {
     "name": "stdout",
     "output_type": "stream",
     "text": [
      "Epoch [1/10], Loss: 0.6336\n",
      "Epoch [2/10], Loss: 0.1958\n",
      "Epoch [3/10], Loss: 0.1440\n",
      "Epoch [4/10], Loss: 0.1172\n",
      "Epoch [5/10], Loss: 0.1033\n",
      "Epoch [6/10], Loss: 0.0935\n",
      "Epoch [7/10], Loss: 0.0883\n",
      "Epoch [8/10], Loss: 0.0833\n",
      "Epoch [9/10], Loss: 0.0812\n",
      "Epoch [10/10], Loss: 0.0785\n"
     ]
    }
   ],
   "source": [
    "LN1 = Net()\n",
    "def init_weights(m):\n",
    "    if isinstance(m, nn.Linear):\n",
    "        torch.nn.init.kaiming_uniform_(m.weight)\n",
    "LN1.apply(init_weights)\n",
    "losses = []\n",
    "train2(64, 0.00009, 0, 0.00001, num_epochs, train_dataset, LN1, criterion, losses)\n",
    "lw20 = torch.FloatTensor(losses)"
   ]
  },
  {
   "cell_type": "code",
   "execution_count": 82,
   "id": "9aca1546",
   "metadata": {},
   "outputs": [
    {
     "data": {
      "image/png": "[encoded data removed]",
      "text/plain": [
       "<Figure size 432x288 with 1 Axes>"
      ]
     },
     "metadata": {
      "needs_background": "light"
     },
     "output_type": "display_data"
    }
   ],
   "source": [
    "plt.plot(epochs, lw18, color='r', label='lr = 0.0001')\n",
    "plt.plot(epochs, lw19, color='g', label='lr = 0.00012')\n",
    "plt.plot(epochs, lw20, color='b', label='lr = 0.00009')\n",
    "plt.xlabel(\"Epoch\")\n",
    "plt.ylabel(\"Loss\")\n",
    "plt.title(\"Adagrad with lr_decay = 0\")\n",
    "plt.legend()\n",
    "plt.show()"
   ]
  },
  {
   "cell_type": "code",
   "execution_count": 84,
   "id": "68a637dd",
   "metadata": {},
   "outputs": [
    {
     "name": "stdout",
     "output_type": "stream",
     "text": [
      "Epoch [1/10], Loss: 0.6145\n",
      "Epoch [2/10], Loss: 0.1944\n",
      "Epoch [3/10], Loss: 0.1420\n",
      "Epoch [4/10], Loss: 0.1154\n",
      "Epoch [5/10], Loss: 0.1003\n",
      "Epoch [6/10], Loss: 0.0919\n",
      "Epoch [7/10], Loss: 0.0870\n",
      "Epoch [8/10], Loss: 0.0835\n",
      "Epoch [9/10], Loss: 0.0809\n",
      "Epoch [10/10], Loss: 0.0794\n"
     ]
    }
   ],
   "source": [
    "LN1 = Net()\n",
    "def init_weights(m):\n",
    "    if isinstance(m, nn.Linear):\n",
    "        torch.nn.init.kaiming_uniform_(m.weight)\n",
    "LN1.apply(init_weights)\n",
    "losses = []\n",
    "train2(64, 0.0001, 0.1, 0.00001, num_epochs, train_dataset, LN1, criterion, losses)\n",
    "lw21 = torch.FloatTensor(losses)"
   ]
  },
  {
   "cell_type": "code",
   "execution_count": 85,
   "id": "8da2b483",
   "metadata": {},
   "outputs": [
    {
     "name": "stdout",
     "output_type": "stream",
     "text": [
      "Epoch [1/10], Loss: 0.5353\n",
      "Epoch [2/10], Loss: 0.1636\n",
      "Epoch [3/10], Loss: 0.1198\n",
      "Epoch [4/10], Loss: 0.0996\n",
      "Epoch [5/10], Loss: 0.0878\n",
      "Epoch [6/10], Loss: 0.0818\n",
      "Epoch [7/10], Loss: 0.0772\n",
      "Epoch [8/10], Loss: 0.0744\n",
      "Epoch [9/10], Loss: 0.0722\n",
      "Epoch [10/10], Loss: 0.0710\n"
     ]
    }
   ],
   "source": [
    "LN1 = Net()\n",
    "def init_weights(m):\n",
    "    if isinstance(m, nn.Linear):\n",
    "        torch.nn.init.kaiming_uniform_(m.weight)\n",
    "LN1.apply(init_weights)\n",
    "losses = []\n",
    "train2(64, 0.00012, 0.1, 0.00001, num_epochs, train_dataset, LN1, criterion, losses)\n",
    "lw22 = torch.FloatTensor(losses)"
   ]
  },
  {
   "cell_type": "code",
   "execution_count": 86,
   "id": "5b64afae",
   "metadata": {},
   "outputs": [
    {
     "name": "stdout",
     "output_type": "stream",
     "text": [
      "Epoch [1/10], Loss: 0.6042\n",
      "Epoch [2/10], Loss: 0.2045\n",
      "Epoch [3/10], Loss: 0.1534\n",
      "Epoch [4/10], Loss: 0.1250\n",
      "Epoch [5/10], Loss: 0.1077\n",
      "Epoch [6/10], Loss: 0.0977\n",
      "Epoch [7/10], Loss: 0.0901\n",
      "Epoch [8/10], Loss: 0.0844\n",
      "Epoch [9/10], Loss: 0.0822\n",
      "Epoch [10/10], Loss: 0.0789\n"
     ]
    }
   ],
   "source": [
    "LN1 = Net()\n",
    "def init_weights(m):\n",
    "    if isinstance(m, nn.Linear):\n",
    "        torch.nn.init.kaiming_uniform_(m.weight)\n",
    "LN1.apply(init_weights)\n",
    "losses = []\n",
    "train2(64, 0.00009, 0.1, 0.00001, num_epochs, train_dataset, LN1, criterion, losses)\n",
    "lw23 = torch.FloatTensor(losses)"
   ]
  },
  {
   "cell_type": "code",
   "execution_count": 87,
   "id": "72449ea9",
   "metadata": {},
   "outputs": [
    {
     "data": {
      "image/png": "[encoded data removed]",
      "text/plain": [
       "<Figure size 432x288 with 1 Axes>"
      ]
     },
     "metadata": {
      "needs_background": "light"
     },
     "output_type": "display_data"
    }
   ],
   "source": [
    "plt.plot(epochs, lw21, color='r', label='lr = 0.0001')\n",
    "plt.plot(epochs, lw22, color='g', label='lr = 0.00012')\n",
    "plt.plot(epochs, lw23, color='b', label='lr = 0.00009')\n",
    "plt.xlabel(\"Epoch\")\n",
    "plt.ylabel(\"Loss\")\n",
    "plt.title(\"Adagrad with lr_decay = 0.1\")\n",
    "plt.legend()\n",
    "plt.show()"
   ]
  },
  {
   "cell_type": "code",
   "execution_count": 88,
   "id": "4a4c352b",
   "metadata": {},
   "outputs": [
    {
     "name": "stdout",
     "output_type": "stream",
     "text": [
      "Epoch [1/10], Loss: 0.5700\n",
      "Epoch [2/10], Loss: 0.1786\n",
      "Epoch [3/10], Loss: 0.1294\n",
      "Epoch [4/10], Loss: 0.1075\n",
      "Epoch [5/10], Loss: 0.0944\n",
      "Epoch [6/10], Loss: 0.0858\n",
      "Epoch [7/10], Loss: 0.0811\n",
      "Epoch [8/10], Loss: 0.0780\n",
      "Epoch [9/10], Loss: 0.0735\n",
      "Epoch [10/10], Loss: 0.0720\n"
     ]
    }
   ],
   "source": [
    "LN1 = Net()\n",
    "def init_weights(m):\n",
    "    if isinstance(m, nn.Linear):\n",
    "        torch.nn.init.kaiming_uniform_(m.weight)\n",
    "LN1.apply(init_weights)\n",
    "losses = []\n",
    "train2(64, 0.0001, 0.01, 0.00001, num_epochs, train_dataset, LN1, criterion, losses)\n",
    "lw24 = torch.FloatTensor(losses)"
   ]
  },
  {
   "cell_type": "code",
   "execution_count": 89,
   "id": "db24b951",
   "metadata": {},
   "outputs": [
    {
     "name": "stdout",
     "output_type": "stream",
     "text": [
      "Epoch [1/10], Loss: 0.5132\n",
      "Epoch [2/10], Loss: 0.1707\n",
      "Epoch [3/10], Loss: 0.1255\n",
      "Epoch [4/10], Loss: 0.1062\n",
      "Epoch [5/10], Loss: 0.0959\n",
      "Epoch [6/10], Loss: 0.0879\n",
      "Epoch [7/10], Loss: 0.0825\n",
      "Epoch [8/10], Loss: 0.0803\n",
      "Epoch [9/10], Loss: 0.0794\n",
      "Epoch [10/10], Loss: 0.0774\n"
     ]
    }
   ],
   "source": [
    "LN1 = Net()\n",
    "def init_weights(m):\n",
    "    if isinstance(m, nn.Linear):\n",
    "        torch.nn.init.kaiming_uniform_(m.weight)\n",
    "LN1.apply(init_weights)\n",
    "losses = []\n",
    "train2(64, 0.00012, 0.01, 0.00001, num_epochs, train_dataset, LN1, criterion, losses)\n",
    "lw25 = torch.FloatTensor(losses)"
   ]
  },
  {
   "cell_type": "code",
   "execution_count": 90,
   "id": "8968b827",
   "metadata": {},
   "outputs": [
    {
     "name": "stdout",
     "output_type": "stream",
     "text": [
      "Epoch [1/10], Loss: 0.6495\n",
      "Epoch [2/10], Loss: 0.2091\n",
      "Epoch [3/10], Loss: 0.1548\n",
      "Epoch [4/10], Loss: 0.1254\n",
      "Epoch [5/10], Loss: 0.1069\n",
      "Epoch [6/10], Loss: 0.0943\n",
      "Epoch [7/10], Loss: 0.0865\n",
      "Epoch [8/10], Loss: 0.0812\n",
      "Epoch [9/10], Loss: 0.0770\n",
      "Epoch [10/10], Loss: 0.0742\n"
     ]
    }
   ],
   "source": [
    "LN1 = Net()\n",
    "def init_weights(m):\n",
    "    if isinstance(m, nn.Linear):\n",
    "        torch.nn.init.kaiming_uniform_(m.weight)\n",
    "LN1.apply(init_weights)\n",
    "losses = []\n",
    "train2(64, 0.00009, 0.01, 0.00001, num_epochs, train_dataset, LN1, criterion, losses)\n",
    "lw26 = torch.FloatTensor(losses)"
   ]
  },
  {
   "cell_type": "code",
   "execution_count": 91,
   "id": "da6b419e",
   "metadata": {},
   "outputs": [
    {
     "data": {
      "image/png": "[encoded data removed]",
      "text/plain": [
       "<Figure size 432x288 with 1 Axes>"
      ]
     },
     "metadata": {
      "needs_background": "light"
     },
     "output_type": "display_data"
    }
   ],
   "source": [
    "plt.plot(epochs, lw24, color='r', label='lr = 0.0001')\n",
    "plt.plot(epochs, lw25, color='g', label='lr = 0.00012')\n",
    "plt.plot(epochs, lw26, color='b', label='lr = 0.00009')\n",
    "plt.xlabel(\"Epoch\")\n",
    "plt.ylabel(\"Loss\")\n",
    "plt.title(\"Adagrad with lr_decay = 0.01\")\n",
    "plt.legend()\n",
    "plt.show()"
   ]
  },
  {
   "cell_type": "markdown",
   "id": "d848755b",
   "metadata": {},
   "source": [
    "Adam optimizer: is computationally efficient, requires less memory during the process, works well with sparse gradients and from the training its understood that hyper-parameters have intuitive interpretation and typically require a little tuning. Addtionally Adam optimizer works better when we have beta values close to one and they converge faster. When we change the beta2 values which is less than one but far from one the loss does not decrease for initial epochs and its the same case with the beta1 values.\n",
    "\n",
    "Gradient Descent (GD): It is expensive to calculate the gradients if the size of the data is huge as we are taking the whole dataset. It works well for convex functions as it evaluates that the gradient is reducing and follows that trend and eventually converges to global minimum but GD does not work for nonconvex functions as we are not able to determine the global minimum due to the cases such as saddle points, mulitplie local minima, convave region or a flat region. \n",
    "\n",
    "Stochastic Gradient Descent: works better with not too large and not too small learning rate, within less than one. It needs forward and backward propagation for every record and therefore slow computation speed and additionally the path to reach global minima becomes very noisy. One more problem is with the constant learning rate for every epoch. Moreover, it is not able to handle saddle points very well.\n",
    "\n",
    "Adagrad optimizer: It decreases the learning rate aggressively and monotonically. There might be a point when the learning rate becomes extremely small. Due to small learning rates, the model eventually becomes unable to acquire more knowledge, and hence the accuracy of the model is compromised. Adagrad works better generally due to frequent updates in the learning rate and it is best when used for dealing with sparse data. It works well with a learning rate around the values of 0.0001 such as 0.0001, 0.00012, 0.00009 and learning rate decay of 0.1, 0.01 and 0. All the values are tested with initial_accumulator_value of 0.00001. Trying with other learning rates and learning rate decay values shows a trend where the loss decreases for some epochs and then it starts to increase. "
   ]
  },
  {
   "cell_type": "code",
   "execution_count": null,
   "id": "2fc0b29f",
   "metadata": {},
   "outputs": [],
   "source": []
  }
 ],
 "metadata": {
  "kernelspec": {
   "display_name": "Python 3 (ipykernel)",
   "language": "python",
   "name": "python3"
  },
  "language_info": {
   "codemirror_mode": {
    "name": "ipython",
    "version": 3
   },
   "file_extension": ".py",
   "mimetype": "text/x-python",
   "name": "python",
   "nbconvert_exporter": "python",
   "pygments_lexer": "ipython3",
   "version": "3.9.12"
  }
 },
 "nbformat": 4,
 "nbformat_minor": 5
}
